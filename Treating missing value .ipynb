{
 "cells": [
  {
   "cell_type": "markdown",
   "id": "e7d2399d",
   "metadata": {},
   "source": [
    "# discover Missing Value "
   ]
  },
  {
   "cell_type": "code",
   "execution_count": 2,
   "id": "6069ab3b",
   "metadata": {},
   "outputs": [],
   "source": [
    "import numpy as np \n",
    "import pandas as pd \n",
    "from pandas import Series, DataFrame"
   ]
  },
  {
   "cell_type": "code",
   "execution_count": null,
   "id": "e0a48518",
   "metadata": {},
   "outputs": [],
   "source": []
  },
  {
   "cell_type": "code",
   "execution_count": 11,
   "id": "0215da53",
   "metadata": {},
   "outputs": [
    {
     "data": {
      "text/plain": [
       "0      1\n",
       "1      2\n",
       "2      3\n",
       "3      4\n",
       "4      5\n",
       "5    NaN\n",
       "6      6\n",
       "dtype: object"
      ]
     },
     "execution_count": 11,
     "metadata": {},
     "output_type": "execute_result"
    }
   ],
   "source": [
    "missing = np.nan\n",
    "series_obj= Series(['1','2', '3', '4', '5', missing, '6'])\n",
    "series_obj\n"
   ]
  },
  {
   "cell_type": "code",
   "execution_count": 12,
   "id": "e194244e",
   "metadata": {},
   "outputs": [
    {
     "data": {
      "text/plain": [
       "0    False\n",
       "1    False\n",
       "2    False\n",
       "3    False\n",
       "4    False\n",
       "5     True\n",
       "6    False\n",
       "dtype: bool"
      ]
     },
     "execution_count": 12,
     "metadata": {},
     "output_type": "execute_result"
    }
   ],
   "source": [
    "series_obj.isnull()"
   ]
  },
  {
   "cell_type": "markdown",
   "id": "c44a6194",
   "metadata": {},
   "source": [
    "# filling missing value "
   ]
  },
  {
   "cell_type": "code",
   "execution_count": 13,
   "id": "5335c6b9",
   "metadata": {},
   "outputs": [],
   "source": [
    "np.random.seed(25)"
   ]
  },
  {
   "cell_type": "code",
   "execution_count": 16,
   "id": "881e5180",
   "metadata": {},
   "outputs": [
    {
     "data": {
      "text/html": [
       "<div>\n",
       "<style scoped>\n",
       "    .dataframe tbody tr th:only-of-type {\n",
       "        vertical-align: middle;\n",
       "    }\n",
       "\n",
       "    .dataframe tbody tr th {\n",
       "        vertical-align: top;\n",
       "    }\n",
       "\n",
       "    .dataframe thead th {\n",
       "        text-align: right;\n",
       "    }\n",
       "</style>\n",
       "<table border=\"1\" class=\"dataframe\">\n",
       "  <thead>\n",
       "    <tr style=\"text-align: right;\">\n",
       "      <th></th>\n",
       "      <th>0</th>\n",
       "      <th>1</th>\n",
       "      <th>2</th>\n",
       "      <th>3</th>\n",
       "      <th>4</th>\n",
       "      <th>5</th>\n",
       "    </tr>\n",
       "  </thead>\n",
       "  <tbody>\n",
       "    <tr>\n",
       "      <th>0</th>\n",
       "      <td>0.590885</td>\n",
       "      <td>0.163652</td>\n",
       "      <td>0.836928</td>\n",
       "      <td>0.775203</td>\n",
       "      <td>0.169041</td>\n",
       "      <td>0.766994</td>\n",
       "    </tr>\n",
       "    <tr>\n",
       "      <th>1</th>\n",
       "      <td>0.335366</td>\n",
       "      <td>0.472398</td>\n",
       "      <td>0.215064</td>\n",
       "      <td>0.912094</td>\n",
       "      <td>0.759208</td>\n",
       "      <td>0.676561</td>\n",
       "    </tr>\n",
       "    <tr>\n",
       "      <th>2</th>\n",
       "      <td>0.021376</td>\n",
       "      <td>0.660874</td>\n",
       "      <td>0.094440</td>\n",
       "      <td>0.831163</td>\n",
       "      <td>0.112749</td>\n",
       "      <td>0.566830</td>\n",
       "    </tr>\n",
       "    <tr>\n",
       "      <th>3</th>\n",
       "      <td>0.174626</td>\n",
       "      <td>0.790607</td>\n",
       "      <td>0.033683</td>\n",
       "      <td>0.795971</td>\n",
       "      <td>0.689437</td>\n",
       "      <td>0.491846</td>\n",
       "    </tr>\n",
       "    <tr>\n",
       "      <th>4</th>\n",
       "      <td>0.088554</td>\n",
       "      <td>0.937550</td>\n",
       "      <td>0.084362</td>\n",
       "      <td>0.469394</td>\n",
       "      <td>0.805613</td>\n",
       "      <td>0.085646</td>\n",
       "    </tr>\n",
       "    <tr>\n",
       "      <th>5</th>\n",
       "      <td>0.244380</td>\n",
       "      <td>0.892806</td>\n",
       "      <td>0.478611</td>\n",
       "      <td>0.190401</td>\n",
       "      <td>0.253044</td>\n",
       "      <td>0.762339</td>\n",
       "    </tr>\n",
       "  </tbody>\n",
       "</table>\n",
       "</div>"
      ],
      "text/plain": [
       "          0         1         2         3         4         5\n",
       "0  0.590885  0.163652  0.836928  0.775203  0.169041  0.766994\n",
       "1  0.335366  0.472398  0.215064  0.912094  0.759208  0.676561\n",
       "2  0.021376  0.660874  0.094440  0.831163  0.112749  0.566830\n",
       "3  0.174626  0.790607  0.033683  0.795971  0.689437  0.491846\n",
       "4  0.088554  0.937550  0.084362  0.469394  0.805613  0.085646\n",
       "5  0.244380  0.892806  0.478611  0.190401  0.253044  0.762339"
      ]
     },
     "execution_count": 16,
     "metadata": {},
     "output_type": "execute_result"
    }
   ],
   "source": [
    "df_obj=DataFrame(np.random.rand(36).reshape(6,6))\n",
    "df_obj"
   ]
  },
  {
   "cell_type": "code",
   "execution_count": 24,
   "id": "55bbaa22",
   "metadata": {},
   "outputs": [],
   "source": [
    "df_obj.loc[3:5, 0] = missing \n",
    "df_obj.loc[0:2, 5] = missing "
   ]
  },
  {
   "cell_type": "code",
   "execution_count": 25,
   "id": "2954b83c",
   "metadata": {},
   "outputs": [
    {
     "data": {
      "text/html": [
       "<div>\n",
       "<style scoped>\n",
       "    .dataframe tbody tr th:only-of-type {\n",
       "        vertical-align: middle;\n",
       "    }\n",
       "\n",
       "    .dataframe tbody tr th {\n",
       "        vertical-align: top;\n",
       "    }\n",
       "\n",
       "    .dataframe thead th {\n",
       "        text-align: right;\n",
       "    }\n",
       "</style>\n",
       "<table border=\"1\" class=\"dataframe\">\n",
       "  <thead>\n",
       "    <tr style=\"text-align: right;\">\n",
       "      <th></th>\n",
       "      <th>0</th>\n",
       "      <th>1</th>\n",
       "      <th>2</th>\n",
       "      <th>3</th>\n",
       "      <th>4</th>\n",
       "      <th>5</th>\n",
       "    </tr>\n",
       "  </thead>\n",
       "  <tbody>\n",
       "    <tr>\n",
       "      <th>0</th>\n",
       "      <td>0.590885</td>\n",
       "      <td>0.163652</td>\n",
       "      <td>0.836928</td>\n",
       "      <td>0.775203</td>\n",
       "      <td>0.169041</td>\n",
       "      <td>NaN</td>\n",
       "    </tr>\n",
       "    <tr>\n",
       "      <th>1</th>\n",
       "      <td>0.335366</td>\n",
       "      <td>0.472398</td>\n",
       "      <td>0.215064</td>\n",
       "      <td>0.912094</td>\n",
       "      <td>0.759208</td>\n",
       "      <td>NaN</td>\n",
       "    </tr>\n",
       "    <tr>\n",
       "      <th>2</th>\n",
       "      <td>0.021376</td>\n",
       "      <td>0.660874</td>\n",
       "      <td>0.094440</td>\n",
       "      <td>0.831163</td>\n",
       "      <td>0.112749</td>\n",
       "      <td>NaN</td>\n",
       "    </tr>\n",
       "    <tr>\n",
       "      <th>3</th>\n",
       "      <td>NaN</td>\n",
       "      <td>0.790607</td>\n",
       "      <td>0.033683</td>\n",
       "      <td>0.795971</td>\n",
       "      <td>0.689437</td>\n",
       "      <td>0.491846</td>\n",
       "    </tr>\n",
       "    <tr>\n",
       "      <th>4</th>\n",
       "      <td>NaN</td>\n",
       "      <td>0.937550</td>\n",
       "      <td>0.084362</td>\n",
       "      <td>0.469394</td>\n",
       "      <td>0.805613</td>\n",
       "      <td>0.085646</td>\n",
       "    </tr>\n",
       "    <tr>\n",
       "      <th>5</th>\n",
       "      <td>NaN</td>\n",
       "      <td>0.892806</td>\n",
       "      <td>0.478611</td>\n",
       "      <td>0.190401</td>\n",
       "      <td>0.253044</td>\n",
       "      <td>0.762339</td>\n",
       "    </tr>\n",
       "  </tbody>\n",
       "</table>\n",
       "</div>"
      ],
      "text/plain": [
       "          0         1         2         3         4         5\n",
       "0  0.590885  0.163652  0.836928  0.775203  0.169041       NaN\n",
       "1  0.335366  0.472398  0.215064  0.912094  0.759208       NaN\n",
       "2  0.021376  0.660874  0.094440  0.831163  0.112749       NaN\n",
       "3       NaN  0.790607  0.033683  0.795971  0.689437  0.491846\n",
       "4       NaN  0.937550  0.084362  0.469394  0.805613  0.085646\n",
       "5       NaN  0.892806  0.478611  0.190401  0.253044  0.762339"
      ]
     },
     "execution_count": 25,
     "metadata": {},
     "output_type": "execute_result"
    }
   ],
   "source": [
    "df_obj"
   ]
  },
  {
   "cell_type": "code",
   "execution_count": 28,
   "id": "5e3a910b",
   "metadata": {},
   "outputs": [],
   "source": [
    "df_obj_fill=df_obj.fillna(8) #fillna is a function to fill the missing value "
   ]
  },
  {
   "cell_type": "code",
   "execution_count": 29,
   "id": "e9d4ce1e",
   "metadata": {},
   "outputs": [
    {
     "data": {
      "text/html": [
       "<div>\n",
       "<style scoped>\n",
       "    .dataframe tbody tr th:only-of-type {\n",
       "        vertical-align: middle;\n",
       "    }\n",
       "\n",
       "    .dataframe tbody tr th {\n",
       "        vertical-align: top;\n",
       "    }\n",
       "\n",
       "    .dataframe thead th {\n",
       "        text-align: right;\n",
       "    }\n",
       "</style>\n",
       "<table border=\"1\" class=\"dataframe\">\n",
       "  <thead>\n",
       "    <tr style=\"text-align: right;\">\n",
       "      <th></th>\n",
       "      <th>0</th>\n",
       "      <th>1</th>\n",
       "      <th>2</th>\n",
       "      <th>3</th>\n",
       "      <th>4</th>\n",
       "      <th>5</th>\n",
       "    </tr>\n",
       "  </thead>\n",
       "  <tbody>\n",
       "    <tr>\n",
       "      <th>0</th>\n",
       "      <td>0.590885</td>\n",
       "      <td>0.163652</td>\n",
       "      <td>0.836928</td>\n",
       "      <td>0.775203</td>\n",
       "      <td>0.169041</td>\n",
       "      <td>8.000000</td>\n",
       "    </tr>\n",
       "    <tr>\n",
       "      <th>1</th>\n",
       "      <td>0.335366</td>\n",
       "      <td>0.472398</td>\n",
       "      <td>0.215064</td>\n",
       "      <td>0.912094</td>\n",
       "      <td>0.759208</td>\n",
       "      <td>8.000000</td>\n",
       "    </tr>\n",
       "    <tr>\n",
       "      <th>2</th>\n",
       "      <td>0.021376</td>\n",
       "      <td>0.660874</td>\n",
       "      <td>0.094440</td>\n",
       "      <td>0.831163</td>\n",
       "      <td>0.112749</td>\n",
       "      <td>8.000000</td>\n",
       "    </tr>\n",
       "    <tr>\n",
       "      <th>3</th>\n",
       "      <td>8.000000</td>\n",
       "      <td>0.790607</td>\n",
       "      <td>0.033683</td>\n",
       "      <td>0.795971</td>\n",
       "      <td>0.689437</td>\n",
       "      <td>0.491846</td>\n",
       "    </tr>\n",
       "    <tr>\n",
       "      <th>4</th>\n",
       "      <td>8.000000</td>\n",
       "      <td>0.937550</td>\n",
       "      <td>0.084362</td>\n",
       "      <td>0.469394</td>\n",
       "      <td>0.805613</td>\n",
       "      <td>0.085646</td>\n",
       "    </tr>\n",
       "    <tr>\n",
       "      <th>5</th>\n",
       "      <td>8.000000</td>\n",
       "      <td>0.892806</td>\n",
       "      <td>0.478611</td>\n",
       "      <td>0.190401</td>\n",
       "      <td>0.253044</td>\n",
       "      <td>0.762339</td>\n",
       "    </tr>\n",
       "  </tbody>\n",
       "</table>\n",
       "</div>"
      ],
      "text/plain": [
       "          0         1         2         3         4         5\n",
       "0  0.590885  0.163652  0.836928  0.775203  0.169041  8.000000\n",
       "1  0.335366  0.472398  0.215064  0.912094  0.759208  8.000000\n",
       "2  0.021376  0.660874  0.094440  0.831163  0.112749  8.000000\n",
       "3  8.000000  0.790607  0.033683  0.795971  0.689437  0.491846\n",
       "4  8.000000  0.937550  0.084362  0.469394  0.805613  0.085646\n",
       "5  8.000000  0.892806  0.478611  0.190401  0.253044  0.762339"
      ]
     },
     "execution_count": 29,
     "metadata": {},
     "output_type": "execute_result"
    }
   ],
   "source": [
    "df_obj_fill"
   ]
  },
  {
   "cell_type": "code",
   "execution_count": 32,
   "id": "de236c4a",
   "metadata": {},
   "outputs": [],
   "source": [
    "df_obj_fill=df_obj.fillna(method='ffill')"
   ]
  },
  {
   "cell_type": "code",
   "execution_count": 33,
   "id": "96d6b355",
   "metadata": {},
   "outputs": [
    {
     "data": {
      "text/html": [
       "<div>\n",
       "<style scoped>\n",
       "    .dataframe tbody tr th:only-of-type {\n",
       "        vertical-align: middle;\n",
       "    }\n",
       "\n",
       "    .dataframe tbody tr th {\n",
       "        vertical-align: top;\n",
       "    }\n",
       "\n",
       "    .dataframe thead th {\n",
       "        text-align: right;\n",
       "    }\n",
       "</style>\n",
       "<table border=\"1\" class=\"dataframe\">\n",
       "  <thead>\n",
       "    <tr style=\"text-align: right;\">\n",
       "      <th></th>\n",
       "      <th>0</th>\n",
       "      <th>1</th>\n",
       "      <th>2</th>\n",
       "      <th>3</th>\n",
       "      <th>4</th>\n",
       "      <th>5</th>\n",
       "    </tr>\n",
       "  </thead>\n",
       "  <tbody>\n",
       "    <tr>\n",
       "      <th>0</th>\n",
       "      <td>0.590885</td>\n",
       "      <td>0.163652</td>\n",
       "      <td>0.836928</td>\n",
       "      <td>0.775203</td>\n",
       "      <td>0.169041</td>\n",
       "      <td>NaN</td>\n",
       "    </tr>\n",
       "    <tr>\n",
       "      <th>1</th>\n",
       "      <td>0.335366</td>\n",
       "      <td>0.472398</td>\n",
       "      <td>0.215064</td>\n",
       "      <td>0.912094</td>\n",
       "      <td>0.759208</td>\n",
       "      <td>NaN</td>\n",
       "    </tr>\n",
       "    <tr>\n",
       "      <th>2</th>\n",
       "      <td>0.021376</td>\n",
       "      <td>0.660874</td>\n",
       "      <td>0.094440</td>\n",
       "      <td>0.831163</td>\n",
       "      <td>0.112749</td>\n",
       "      <td>NaN</td>\n",
       "    </tr>\n",
       "    <tr>\n",
       "      <th>3</th>\n",
       "      <td>0.021376</td>\n",
       "      <td>0.790607</td>\n",
       "      <td>0.033683</td>\n",
       "      <td>0.795971</td>\n",
       "      <td>0.689437</td>\n",
       "      <td>0.491846</td>\n",
       "    </tr>\n",
       "    <tr>\n",
       "      <th>4</th>\n",
       "      <td>0.021376</td>\n",
       "      <td>0.937550</td>\n",
       "      <td>0.084362</td>\n",
       "      <td>0.469394</td>\n",
       "      <td>0.805613</td>\n",
       "      <td>0.085646</td>\n",
       "    </tr>\n",
       "    <tr>\n",
       "      <th>5</th>\n",
       "      <td>0.021376</td>\n",
       "      <td>0.892806</td>\n",
       "      <td>0.478611</td>\n",
       "      <td>0.190401</td>\n",
       "      <td>0.253044</td>\n",
       "      <td>0.762339</td>\n",
       "    </tr>\n",
       "  </tbody>\n",
       "</table>\n",
       "</div>"
      ],
      "text/plain": [
       "          0         1         2         3         4         5\n",
       "0  0.590885  0.163652  0.836928  0.775203  0.169041       NaN\n",
       "1  0.335366  0.472398  0.215064  0.912094  0.759208       NaN\n",
       "2  0.021376  0.660874  0.094440  0.831163  0.112749       NaN\n",
       "3  0.021376  0.790607  0.033683  0.795971  0.689437  0.491846\n",
       "4  0.021376  0.937550  0.084362  0.469394  0.805613  0.085646\n",
       "5  0.021376  0.892806  0.478611  0.190401  0.253044  0.762339"
      ]
     },
     "execution_count": 33,
     "metadata": {},
     "output_type": "execute_result"
    }
   ],
   "source": [
    "df_obj_fill"
   ]
  },
  {
   "cell_type": "code",
   "execution_count": null,
   "id": "08f0d2da",
   "metadata": {},
   "outputs": [],
   "source": []
  }
 ],
 "metadata": {
  "kernelspec": {
   "display_name": "Python 3 (ipykernel)",
   "language": "python",
   "name": "python3"
  },
  "language_info": {
   "codemirror_mode": {
    "name": "ipython",
    "version": 3
   },
   "file_extension": ".py",
   "mimetype": "text/x-python",
   "name": "python",
   "nbconvert_exporter": "python",
   "pygments_lexer": "ipython3",
   "version": "3.9.7"
  }
 },
 "nbformat": 4,
 "nbformat_minor": 5
}
